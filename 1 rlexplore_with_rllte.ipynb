{
 "cells": [
  {
   "cell_type": "markdown",
   "metadata": {},
   "source": [
    "**With RLLTE, you can use these intrinsic reward modules in a simple and elegant way.**"
   ]
  },
  {
   "cell_type": "markdown",
   "metadata": {},
   "source": [
    "**Example with PPO**"
   ]
  },
  {
   "cell_type": "code",
   "execution_count": 1,
   "metadata": {},
   "outputs": [
    {
     "name": "stderr",
     "output_type": "stream",
     "text": [
      "/Users/yuanmingqi/miniconda3/envs/rllte/lib/python3.8/site-packages/gym/envs/registration.py:627: UserWarning: \u001b[33mWARN: The environment creator metadata doesn't include `render_modes`, contains: ['render.modes', 'video.frames_per_second']\u001b[0m\n",
      "  logger.warn(\n",
      "/Users/yuanmingqi/miniconda3/envs/rllte/lib/python3.8/site-packages/gym/envs/registration.py:627: UserWarning: \u001b[33mWARN: The environment creator metadata doesn't include `render_modes`, contains: ['render.modes', 'video.frames_per_second']\u001b[0m\n",
      "  logger.warn(\n",
      "/Users/yuanmingqi/miniconda3/envs/rllte/lib/python3.8/site-packages/gym/envs/registration.py:627: UserWarning: \u001b[33mWARN: The environment creator metadata doesn't include `render_modes`, contains: ['render.modes', 'video.frames_per_second']\u001b[0m\n",
      "  logger.warn(\n",
      "/Users/yuanmingqi/miniconda3/envs/rllte/lib/python3.8/site-packages/gym/envs/registration.py:627: UserWarning: \u001b[33mWARN: The environment creator metadata doesn't include `render_modes`, contains: ['render.modes', 'video.frames_per_second']\u001b[0m\n",
      "  logger.warn(\n",
      "/Users/yuanmingqi/miniconda3/envs/rllte/lib/python3.8/site-packages/gym/envs/registration.py:627: UserWarning: \u001b[33mWARN: The environment creator metadata doesn't include `render_modes`, contains: ['render.modes', 'video.frames_per_second']\u001b[0m\n",
      "  logger.warn(\n",
      "/Users/yuanmingqi/miniconda3/envs/rllte/lib/python3.8/site-packages/gym/envs/registration.py:627: UserWarning: \u001b[33mWARN: The environment creator metadata doesn't include `render_modes`, contains: ['render.modes', 'video.frames_per_second']\u001b[0m\n",
      "  logger.warn(\n",
      "/Users/yuanmingqi/miniconda3/envs/rllte/lib/python3.8/site-packages/gym/envs/registration.py:627: UserWarning: \u001b[33mWARN: The environment creator metadata doesn't include `render_modes`, contains: ['render.modes', 'video.frames_per_second']\u001b[0m\n",
      "  logger.warn(\n",
      "/Users/yuanmingqi/miniconda3/envs/rllte/lib/python3.8/site-packages/gym/envs/registration.py:627: UserWarning: \u001b[33mWARN: The environment creator metadata doesn't include `render_modes`, contains: ['render.modes', 'video.frames_per_second']\u001b[0m\n",
      "  logger.warn(\n",
      "/Users/yuanmingqi/miniconda3/envs/rllte/lib/python3.8/site-packages/gym/envs/registration.py:627: UserWarning: \u001b[33mWARN: The environment creator metadata doesn't include `render_modes`, contains: ['render.modes', 'video.frames_per_second']\u001b[0m\n",
      "  logger.warn(\n"
     ]
    },
    {
     "name": "stdout",
     "output_type": "stream",
     "text": [
      "mps Box(0, 255, (3, 84, 84), uint8) Discrete(7)\n",
      "[02/28/2024 09:15:03 PM] - [\u001b[1m\u001b[34mINFO.\u001b[0m] - Invoking RLLTE Engine...\n",
      "[02/28/2024 09:15:03 PM] - [\u001b[1m\u001b[34mINFO.\u001b[0m] - ================================================================================\n",
      "[02/28/2024 09:15:03 PM] - [\u001b[1m\u001b[34mINFO.\u001b[0m] - Tag               : default\n",
      "[02/28/2024 09:15:03 PM] - [\u001b[1m\u001b[34mINFO.\u001b[0m] - Device            : MacOS MPS\n",
      "[02/28/2024 09:15:03 PM] - [\u001b[1m\u001b[33mDEBUG\u001b[0m] - Agent             : PPO\n",
      "[02/28/2024 09:15:03 PM] - [\u001b[1m\u001b[33mDEBUG\u001b[0m] - Encoder           : MnihCnnEncoder\n",
      "[02/28/2024 09:15:03 PM] - [\u001b[1m\u001b[33mDEBUG\u001b[0m] - Policy            : OnPolicySharedActorCritic\n",
      "[02/28/2024 09:15:03 PM] - [\u001b[1m\u001b[33mDEBUG\u001b[0m] - Storage           : VanillaRolloutStorage\n",
      "[02/28/2024 09:15:03 PM] - [\u001b[1m\u001b[33mDEBUG\u001b[0m] - Distribution      : Categorical\n",
      "[02/28/2024 09:15:03 PM] - [\u001b[1m\u001b[33mDEBUG\u001b[0m] - Augmentation      : None\n",
      "[02/28/2024 09:15:03 PM] - [\u001b[1m\u001b[33mDEBUG\u001b[0m] - Intrinsic Reward  : ICM\n",
      "[02/28/2024 09:15:03 PM] - [\u001b[1m\u001b[33mDEBUG\u001b[0m] - ================================================================================\n"
     ]
    },
    {
     "name": "stderr",
     "output_type": "stream",
     "text": [
      "/Users/yuanmingqi/miniconda3/envs/rllte/lib/python3.8/site-packages/gym/utils/passive_env_checker.py:233: DeprecationWarning: `np.bool8` is a deprecated alias for `np.bool_`.  (Deprecated NumPy 1.24)\n",
      "  if not isinstance(terminated, (bool, np.bool8)):\n",
      "/Users/yuanmingqi/miniconda3/envs/rllte/lib/python3.8/site-packages/gym/utils/passive_env_checker.py:233: DeprecationWarning: `np.bool8` is a deprecated alias for `np.bool_`.  (Deprecated NumPy 1.24)\n",
      "  if not isinstance(terminated, (bool, np.bool8)):\n",
      "/Users/yuanmingqi/miniconda3/envs/rllte/lib/python3.8/site-packages/gym/utils/passive_env_checker.py:233: DeprecationWarning: `np.bool8` is a deprecated alias for `np.bool_`.  (Deprecated NumPy 1.24)\n",
      "  if not isinstance(terminated, (bool, np.bool8)):\n",
      "/Users/yuanmingqi/miniconda3/envs/rllte/lib/python3.8/site-packages/gym/utils/passive_env_checker.py:233: DeprecationWarning: `np.bool8` is a deprecated alias for `np.bool_`.  (Deprecated NumPy 1.24)\n",
      "  if not isinstance(terminated, (bool, np.bool8)):\n",
      "/Users/yuanmingqi/miniconda3/envs/rllte/lib/python3.8/site-packages/gym/utils/passive_env_checker.py:233: DeprecationWarning: `np.bool8` is a deprecated alias for `np.bool_`.  (Deprecated NumPy 1.24)\n",
      "  if not isinstance(terminated, (bool, np.bool8)):\n",
      "/Users/yuanmingqi/miniconda3/envs/rllte/lib/python3.8/site-packages/gym/utils/passive_env_checker.py:233: DeprecationWarning: `np.bool8` is a deprecated alias for `np.bool_`.  (Deprecated NumPy 1.24)\n",
      "  if not isinstance(terminated, (bool, np.bool8)):\n",
      "/Users/yuanmingqi/miniconda3/envs/rllte/lib/python3.8/site-packages/gym/utils/passive_env_checker.py:233: DeprecationWarning: `np.bool8` is a deprecated alias for `np.bool_`.  (Deprecated NumPy 1.24)\n",
      "  if not isinstance(terminated, (bool, np.bool8)):\n",
      "/Users/yuanmingqi/miniconda3/envs/rllte/lib/python3.8/site-packages/gym/utils/passive_env_checker.py:233: DeprecationWarning: `np.bool8` is a deprecated alias for `np.bool_`.  (Deprecated NumPy 1.24)\n",
      "  if not isinstance(terminated, (bool, np.bool8)):\n"
     ]
    },
    {
     "name": "stdout",
     "output_type": "stream",
     "text": [
      "[02/28/2024 09:15:07 PM] - [\u001b[1m\u001b[31mTRAIN\u001b[0m] - S: 1024        | E: 8           | L: 56          | R: 2.230       | FPS: 246.207   | T: 0:00:04    \n",
      "[02/28/2024 09:15:10 PM] - [\u001b[1m\u001b[31mTRAIN\u001b[0m] - S: 2048        | E: 16          | L: 103         | R: 3.890       | FPS: 294.277   | T: 0:00:06    \n",
      "[02/28/2024 09:15:13 PM] - [\u001b[1m\u001b[31mTRAIN\u001b[0m] - S: 3072        | E: 24          | L: 115         | R: 4.305       | FPS: 318.981   | T: 0:00:09    \n",
      "[02/28/2024 09:15:15 PM] - [\u001b[1m\u001b[31mTRAIN\u001b[0m] - S: 4096        | E: 32          | L: 134         | R: 4.456       | FPS: 332.621   | T: 0:00:12    \n",
      "[02/28/2024 09:15:18 PM] - [\u001b[1m\u001b[31mTRAIN\u001b[0m] - S: 5120        | E: 40          | L: 134         | R: 4.456       | FPS: 340.885   | T: 0:00:15    \n",
      "[02/28/2024 09:15:21 PM] - [\u001b[1m\u001b[31mTRAIN\u001b[0m] - S: 6144        | E: 48          | L: 134         | R: 4.456       | FPS: 346.692   | T: 0:00:17    \n",
      "[02/28/2024 09:15:23 PM] - [\u001b[1m\u001b[31mTRAIN\u001b[0m] - S: 7168        | E: 56          | L: 163         | R: 4.607       | FPS: 350.687   | T: 0:00:20    \n",
      "[02/28/2024 09:15:26 PM] - [\u001b[1m\u001b[31mTRAIN\u001b[0m] - S: 8192        | E: 64          | L: 393         | R: 5.556       | FPS: 354.132   | T: 0:00:23    \n",
      "[02/28/2024 09:15:29 PM] - [\u001b[1m\u001b[31mTRAIN\u001b[0m] - S: 9216        | E: 72          | L: 389         | R: 5.585       | FPS: 356.831   | T: 0:00:25    \n",
      "[02/28/2024 09:15:29 PM] - [\u001b[1m\u001b[34mINFO.\u001b[0m] - Training Accomplished!\n",
      "[02/28/2024 09:15:29 PM] - [\u001b[1m\u001b[34mINFO.\u001b[0m] - Model saved at: /Users/yuanmingqi/code/rllte/misc/logs/default/2024-02-28-09-15-03/model\n"
     ]
    }
   ],
   "source": [
    "from rllte.xplore.reward import ICM\n",
    "from rllte.env import make_mario_env\n",
    "from rllte.agent import PPO\n",
    "import torch as th\n",
    "\n",
    "# create the vectorized environments\n",
    "device = 'mps' if th.backends.mps.is_available() else 'cuda' if th.cuda.is_available() else 'cpu'\n",
    "envs = make_mario_env('SuperMarioBros-1-1-v3', device=device)\n",
    "print(device, envs.observation_space, envs.action_space)\n",
    "# create the intrinsic reward module\n",
    "irs = ICM(envs, device=device)\n",
    "# create the PPO agent\n",
    "agent = PPO(envs, device=device)\n",
    "# set the intrinsic reward module\n",
    "agent.set(reward=irs)\n",
    "# train the agent\n",
    "agent.train(10000)"
   ]
  },
  {
   "cell_type": "markdown",
   "metadata": {},
   "source": [
    "**Example with DDPG**"
   ]
  },
  {
   "cell_type": "code",
   "execution_count": 2,
   "metadata": {},
   "outputs": [],
   "source": [
    "from rllte.xplore.reward import PseudoCounts\n",
    "from rllte.env import make_dmc_env\n",
    "from rllte.agent import DDPG\n",
    "import torch as th\n",
    "\n",
    "# create the vectorized environments\n",
    "device = 'mps' if th.backends.mps.is_available() else 'cuda' if th.cuda.is_available() else 'cpu'\n",
    "envs = make_dmc_env('hopper_hop', device=device)\n",
    "print(device, envs.observation_space, envs.action_space)\n",
    "# create the intrinsic reward module\n",
    "irs = PseudoCounts(envs, device=device)\n",
    "# create the PPO agent\n",
    "agent = DDPG(envs, device=device)\n",
    "# set the intrinsic reward module\n",
    "agent.set(reward=irs)\n",
    "# train the agent\n",
    "agent.train(10000, log_interval=1000)"
   ]
  }
 ],
 "metadata": {
  "kernelspec": {
   "display_name": "rllte",
   "language": "python",
   "name": "python3"
  },
  "language_info": {
   "codemirror_mode": {
    "name": "ipython",
    "version": 3
   },
   "file_extension": ".py",
   "mimetype": "text/x-python",
   "name": "python",
   "nbconvert_exporter": "python",
   "pygments_lexer": "ipython3",
   "version": "3.8.17"
  }
 },
 "nbformat": 4,
 "nbformat_minor": 2
}
